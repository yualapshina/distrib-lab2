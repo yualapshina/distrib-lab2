{
  "nbformat": 4,
  "nbformat_minor": 0,
  "metadata": {
    "colab": {
      "provenance": []
    },
    "kernelspec": {
      "name": "python3",
      "display_name": "Python 3"
    },
    "language_info": {
      "name": "python"
    }
  },
  "cells": [
    {
      "cell_type": "markdown",
      "source": [
        "# препроцессинг"
      ],
      "metadata": {
        "id": "_SgQU0YriFmc"
      }
    },
    {
      "cell_type": "code",
      "source": [
        "!git clone https://github.com/yualapshina/distrib-lab2.git --quiet"
      ],
      "metadata": {
        "id": "QlUdo9G-iLo7"
      },
      "execution_count": null,
      "outputs": []
    },
    {
      "cell_type": "code",
      "source": [
        "import os\n",
        "import random"
      ],
      "metadata": {
        "id": "FHC_EhIPi2CO"
      },
      "execution_count": null,
      "outputs": []
    },
    {
      "cell_type": "markdown",
      "source": [
        "# основной пайплайн"
      ],
      "metadata": {
        "id": "DWpIxM9Fiesq"
      }
    },
    {
      "cell_type": "code",
      "source": [
        "# формат ввода:\n",
        "# целое число - размер\n",
        "# матрица вещественных чисел размер х размер\n",
        "# вектор вещественных чисел длиной размер\n",
        "\n",
        "# редактировать ввод\n",
        "size = 3\n",
        "\n",
        "input_content = str(size) + \"\\n\";\n",
        "for i in range(size + 1):\n",
        "  for j in range(size):\n",
        "    input_content += str(random.randint(0, 50)) + \" \"\n",
        "  input_content += \"\\n\"\n",
        "\n",
        "with open(\"distrib-lab2/input_vector.txt\", \"w\") as fin:\n",
        "  fin.write(input_content);"
      ],
      "metadata": {
        "id": "WU3vBAcPjunT"
      },
      "execution_count": null,
      "outputs": []
    },
    {
      "cell_type": "code",
      "source": [
        "# проверить ввод\n",
        "with open(\"distrib-lab2/input_vector.txt\", \"r\") as fin:\n",
        "  check_content = fin.read()\n",
        "print(check_content)"
      ],
      "metadata": {
        "colab": {
          "base_uri": "https://localhost:8080/"
        },
        "id": "OJLsHJ7xjeJr",
        "outputId": "c089556c-4f77-4877-8181-74ef50db03a6"
      },
      "execution_count": null,
      "outputs": [
        {
          "output_type": "stream",
          "name": "stdout",
          "text": [
            "3\n",
            "27 29 41 \n",
            "30 29 45 \n",
            "4 10 46 \n",
            "28 4 45 \n",
            "\n"
          ]
        }
      ]
    },
    {
      "cell_type": "code",
      "source": [
        "# количество процессов\n",
        "os.environ['p'] = '5'"
      ],
      "metadata": {
        "id": "8WNIYf0oieSo"
      },
      "execution_count": null,
      "outputs": []
    },
    {
      "cell_type": "code",
      "source": [
        "# чё по страшному коду\n",
        "# бенчмарк - однопоточный для сравнения времени и математической корректности\n",
        "# (если они вдруг начнут неправильно считать, я ничего не буду делать))))))\n",
        "# и две проги, третья с блоками неправильная по алгоритму, но будет приложена как свидетельство старания"
      ],
      "metadata": {
        "id": "jKcDv09flHQU"
      },
      "execution_count": null,
      "outputs": []
    },
    {
      "cell_type": "code",
      "execution_count": null,
      "metadata": {
        "colab": {
          "base_uri": "https://localhost:8080/"
        },
        "id": "b_-1reCD-T8e",
        "outputId": "0f520cde-2b97-47a6-d5e2-44674d83198c"
      },
      "outputs": [
        {
          "output_type": "stream",
          "name": "stdout",
          "text": [
            "Benchmark\n",
            "Time: 0.000002 seconds\n",
            "Result: 2717.00 2981.00 2222.00 \n",
            "\n",
            "MPI Rows\n",
            "Time: 0.004091 seconds\n",
            "Result: 2717.00 2981.00 2222.00 \n",
            "\n",
            "MPI Columns\n",
            "Time: 0.003823 seconds\n",
            "Result: 2717.00 2981.00 2222.00 \n",
            "\n"
          ]
        },
        {
          "output_type": "execute_result",
          "data": {
            "text/plain": []
          },
          "metadata": {},
          "execution_count": 24
        }
      ],
      "source": [
        "%%shell\n",
        "cd distrib-lab2\n",
        "\n",
        "mpicc benchmark_vector.c -o benchmark_vector -lm\n",
        "mpiexec --allow-run-as-root ./benchmark_vector input_vector.txt\n",
        "\n",
        "mpicc mpi_rows.c -o mpi_rows -lm\n",
        "mpiexec --oversubscribe -np $p --allow-run-as-root ./mpi_rows input_vector.txt\n",
        "\n",
        "mpicc mpi_columns.c -o mpi_columns -lm\n",
        "mpiexec --oversubscribe -np $p --allow-run-as-root ./mpi_columns input_vector.txt"
      ]
    },
    {
      "cell_type": "markdown",
      "source": [
        "# оценка"
      ],
      "metadata": {
        "id": "K2pYr9PTl16f"
      }
    },
    {
      "cell_type": "code",
      "source": [
        "# чуть более подробный отчёт с описанием алгоритмов я напишу, но попозже\n",
        "\n",
        "# что делать с картинками:\n",
        "# в прошлый раз у нас, можно сказать, был набор из трёх картинок: время, ускорение и эффективность,\n",
        "# на каждой из которых цветами различалось количество потоков\n",
        "# нужно, видимо, сделать два таких набора, для рядов и для столбцов, каждую программу поварьировать с большими данными и с процессами\n",
        "# хорошо хоть, что запускаются вместе теперь\n",
        "# однопоточную можно тоже воткнуть на график ради примера или если будет не интересно, можно не трогать"
      ],
      "metadata": {
        "id": "QZzUWFmIl6LI"
      },
      "execution_count": null,
      "outputs": []
    }
  ]
}